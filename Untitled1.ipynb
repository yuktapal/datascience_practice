{
  "nbformat": 4,
  "nbformat_minor": 0,
  "metadata": {
    "colab": {
      "provenance": [],
      "toc_visible": true,
      "authorship_tag": "ABX9TyMC5L1+BRHXyWj9ROKLWqS+",
      "include_colab_link": true
    },
    "kernelspec": {
      "name": "python3",
      "display_name": "Python 3"
    },
    "language_info": {
      "name": "python"
    }
  },
  "cells": [
    {
      "cell_type": "markdown",
      "metadata": {
        "id": "view-in-github",
        "colab_type": "text"
      },
      "source": [
        "<a href=\"https://colab.research.google.com/github/yuktapal/datascience_practice/blob/main/Untitled1.ipynb\" target=\"_parent\"><img src=\"https://colab.research.google.com/assets/colab-badge.svg\" alt=\"Open In Colab\"/></a>"
      ]
    },
    {
      "cell_type": "code",
      "execution_count": 6,
      "metadata": {
        "colab": {
          "base_uri": "https://localhost:8080/"
        },
        "id": "gTSGQWchuYXf",
        "outputId": "afbff0cc-f737-4476-eb24-df1e8b7aac8e"
      },
      "outputs": [
        {
          "output_type": "stream",
          "name": "stdout",
          "text": [
            "Inital state=(0,0)\n",
            "Capacity =(4,3)\n",
            "Goal state=(2,y)\n",
            "enter rule2\n",
            "0 3\n",
            "enter rule7\n",
            "3 0\n",
            "enter rule2\n",
            "3 3\n",
            "enter rule5\n",
            "4 2\n",
            "enter rule3\n",
            "0 2\n",
            "enter rule7\n",
            "2 0\n"
          ]
        }
      ],
      "source": [
        "x=0\n",
        "y=0\n",
        "m=4\n",
        "n=3\n",
        "print(\"Inital state=(0,0)\")\n",
        "print(\"Capacity =(4,3)\")\n",
        "print(\"Rule1= fill the 4 gallon jug completely\")\n",
        "print(\"Rule2= fill the 3 gallon jug completely\")\n",
        "print(\"Rule3= Empty the 4 gallon jug \")\n",
        "print(\"Rule4= Empty the 4 gallon jug completely\")\n",
        "print(\"Rule5= Pour some water from 3 gallon jug to fill the four gallon jug \")\n",
        "print(\"Rule6= Pour some water from 4 gallon jug to fill the 3 gallon jug \")\n",
        "print(\"Rule7= Pour all water from 3 gallon jug to fill the four gallon jug \")\n",
        "print(\"Rule8= Pour some water from 4 gallon jug to fill the 3 gallon jug \")\n",
        "\n",
        "print(\"Goal state=(2,y)\")\n",
        "\n",
        "while(x!=2):\n",
        "    r=int(input(\"enter rule\"))\n",
        "    if(r==1):\n",
        "        x=m\n",
        "    elif(r==2):\n",
        "        y=n\n",
        "    elif(r== 3):\n",
        "        if(x>0):\n",
        "          x=0\n",
        "    elif(r==4):\n",
        "        if(y>0):\n",
        "          y=0\n",
        "    elif(r==5):\n",
        "        if(x+y>=4 and y>0):\n",
        "          t=m-x\n",
        "          x=m\n",
        "          y-=t\n",
        "    elif(r==6):\n",
        "        if(x+y>=3 and x>0):\n",
        "          t=n-y\n",
        "          y=n\n",
        "          x-=t\n",
        "    elif(r==7):\n",
        "        if(x+y<4 and y>0):\n",
        "          x+=y\n",
        "          y=0\n",
        "\n",
        "    elif(r==8):\n",
        "      if(x+y<3 and x>0):\n",
        "         y+=x\n",
        "         x=0\n",
        "    print(x,y)"
      ]
    },
    {
      "cell_type": "code",
      "source": [
        "from google.colab import drive\n",
        "drive.mount('/content/drive')"
      ],
      "metadata": {
        "id": "OzU94f_JD8Zb"
      },
      "execution_count": null,
      "outputs": []
    }
  ]
}